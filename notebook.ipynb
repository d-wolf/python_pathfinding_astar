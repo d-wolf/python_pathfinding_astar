{
 "cells": [
  {
   "cell_type": "code",
   "execution_count": 1,
   "metadata": {},
   "outputs": [],
   "source": [
    "from matplotlib import pyplot as plt\n",
    "import numpy as np\n",
    "from matplotlib import colors\n",
    "from a_star import AStar"
   ]
  },
  {
   "cell_type": "code",
   "execution_count": 2,
   "metadata": {},
   "outputs": [
    {
     "data": {
      "image/png": "[encoded data removed]",
      "text/plain": [
       "<Figure size 640x480 with 1 Axes>"
      ]
     },
     "metadata": {},
     "output_type": "display_data"
    }
   ],
   "source": [
    "initial_maze = np.array([\n",
    "    [0, 0, 0, 0, 0, 0, 0],\n",
    "    [0, 0, 0, 3, 0, 0, 0],\n",
    "    [0, 1, 0, 3, 0, 2, 0],\n",
    "    [0, 0, 0, 3, 0, 0, 0],\n",
    "    [0, 0, 0, 0, 0, 0, 0]\n",
    "])\n",
    "\n",
    "# plot initial maze\n",
    "init_cmap = colors.ListedColormap(['black', 'green', 'red', 'blue'])\n",
    "init_fig, init_ax = plt.subplots()\n",
    "init_ax.imshow(initial_maze, cmap=init_cmap)\n",
    "init_ax.grid(axis='both', color='white', linewidth=2)\n",
    "init_ax.set_xticks(np.arange(.5, initial_maze.shape[1], 1))\n",
    "init_ax.set_yticks(np.arange(.5, initial_maze.shape[0], 1))\n",
    "plt.tick_params(bottom=False, top=False, left=False,\n",
    "                right=False, labelbottom=False, labelleft=False)\n",
    "plt.show()"
   ]
  },
  {
   "cell_type": "code",
   "execution_count": 3,
   "metadata": {},
   "outputs": [
    {
     "name": "stdout",
     "output_type": "stream",
     "text": [
      "True\n",
      "[(1, 2), (0, 3), (1, 4)]\n"
     ]
    }
   ],
   "source": [
    "# find the path\n",
    "a_star = AStar(initial_maze)\n",
    "success = a_star.search()\n",
    "print(success)\n",
    "path_result = a_star.get_result()\n",
    "print(path_result)"
   ]
  },
  {
   "cell_type": "code",
   "execution_count": 4,
   "metadata": {},
   "outputs": [
    {
     "data": {
      "image/png": "[encoded data removed]",
      "text/plain": [
       "<Figure size 640x480 with 1 Axes>"
      ]
     },
     "metadata": {},
     "output_type": "display_data"
    }
   ],
   "source": [
    "result_maze = initial_maze.copy()\n",
    "\n",
    "# write path coords from start to end to result\n",
    "for i in range(0, len(path_result)):\n",
    "    x, y = path_result[i]\n",
    "    # the resulting path will be yellow\n",
    "    result_maze[x][y] = 4\n",
    "\n",
    "# show result\n",
    "result_cmap = colors.ListedColormap(\n",
    "    ['black', 'green', 'red', 'blue', 'yellow'])\n",
    "result_fig, result_ax = plt.subplots()\n",
    "result_ax.imshow(result_maze, cmap=result_cmap)\n",
    "result_ax.grid(axis='both', color='white', linewidth=2)\n",
    "result_ax.set_xticks(np.arange(.5, result_maze.shape[1], 1))\n",
    "result_ax.set_yticks(np.arange(.5, result_maze.shape[0], 1))\n",
    "plt.tick_params(bottom=False, top=False, left=False,\n",
    "                right=False, labelbottom=False, labelleft=False)\n",
    "plt.show()"
   ]
  }
 ],
 "metadata": {
  "kernelspec": {
   "display_name": "Python 3",
   "language": "python",
   "name": "python3"
  },
  "language_info": {
   "codemirror_mode": {
    "name": "ipython",
    "version": 3
   },
   "file_extension": ".py",
   "mimetype": "text/x-python",
   "name": "python",
   "nbconvert_exporter": "python",
   "pygments_lexer": "ipython3",
   "version": "3.10.11"
  },
  "orig_nbformat": 4
 },
 "nbformat": 4,
 "nbformat_minor": 2
}
